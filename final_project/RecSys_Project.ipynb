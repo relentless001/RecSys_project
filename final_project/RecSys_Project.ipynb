{
 "cells": [
  {
   "cell_type": "code",
   "execution_count": 2,
   "id": "64cbbf3e-5505-4d02-9f90-b96fed3fddcc",
   "metadata": {},
   "outputs": [
    {
     "name": "stderr",
     "output_type": "stream",
     "text": [
      "[nltk_data] Downloading package punkt_tab to\n",
      "[nltk_data]     C:\\Users\\hp\\AppData\\Roaming\\nltk_data...\n",
      "[nltk_data]   Unzipping tokenizers\\punkt_tab.zip.\n"
     ]
    }
   ],
   "source": [
    "import numpy as np\n",
    "import pandas as pd\n",
    "from nltk.tokenize import word_tokenize\n",
    "import nltk\n",
    "nltk.download('punkt_tab')\n",
    "from gensim.models import Word2Vec\n",
    "from sklearn.preprocessing import StandardScaler\n",
    "from sklearn.metrics.pairwise import cosine_similarity\n",
    "from sklearn.metrics.pairwise import cosine_distances\n",
    "\n",
    "import warnings\n",
    "warnings.filterwarnings('ignore')"
   ]
  },
  {
   "cell_type": "markdown",
   "id": "ec5ac6b1-6626-47cd-9ead-184dad55e0fb",
   "metadata": {},
   "source": [
    "# Очистка и обработка данных"
   ]
  },
  {
   "cell_type": "code",
   "execution_count": 3,
   "id": "0b68a2f8-9bfc-4199-9c72-77921acee537",
   "metadata": {},
   "outputs": [
    {
     "name": "stdout",
     "output_type": "stream",
     "text": [
      "<class 'pandas.core.frame.DataFrame'>\n",
      "RangeIndex: 232725 entries, 0 to 232724\n",
      "Data columns (total 18 columns):\n",
      " #   Column            Non-Null Count   Dtype  \n",
      "---  ------            --------------   -----  \n",
      " 0   genre             232725 non-null  object \n",
      " 1   artist_name       232725 non-null  object \n",
      " 2   track_name        232724 non-null  object \n",
      " 3   track_id          232725 non-null  object \n",
      " 4   popularity        232725 non-null  int64  \n",
      " 5   acousticness      232725 non-null  float64\n",
      " 6   danceability      232725 non-null  float64\n",
      " 7   duration_ms       232725 non-null  int64  \n",
      " 8   energy            232725 non-null  float64\n",
      " 9   instrumentalness  232725 non-null  float64\n",
      " 10  key               232725 non-null  object \n",
      " 11  liveness          232725 non-null  float64\n",
      " 12  loudness          232725 non-null  float64\n",
      " 13  mode              232725 non-null  object \n",
      " 14  speechiness       232725 non-null  float64\n",
      " 15  tempo             232725 non-null  float64\n",
      " 16  time_signature    232725 non-null  object \n",
      " 17  valence           232725 non-null  float64\n",
      "dtypes: float64(9), int64(2), object(7)\n",
      "memory usage: 32.0+ MB\n"
     ]
    },
    {
     "data": {
      "text/html": [
       "<div>\n",
       "<style scoped>\n",
       "    .dataframe tbody tr th:only-of-type {\n",
       "        vertical-align: middle;\n",
       "    }\n",
       "\n",
       "    .dataframe tbody tr th {\n",
       "        vertical-align: top;\n",
       "    }\n",
       "\n",
       "    .dataframe thead th {\n",
       "        text-align: right;\n",
       "    }\n",
       "</style>\n",
       "<table border=\"1\" class=\"dataframe\">\n",
       "  <thead>\n",
       "    <tr style=\"text-align: right;\">\n",
       "      <th></th>\n",
       "      <th>genre</th>\n",
       "      <th>artist_name</th>\n",
       "      <th>track_name</th>\n",
       "      <th>track_id</th>\n",
       "      <th>popularity</th>\n",
       "      <th>acousticness</th>\n",
       "      <th>danceability</th>\n",
       "      <th>duration_ms</th>\n",
       "      <th>energy</th>\n",
       "      <th>instrumentalness</th>\n",
       "      <th>key</th>\n",
       "      <th>liveness</th>\n",
       "      <th>loudness</th>\n",
       "      <th>mode</th>\n",
       "      <th>speechiness</th>\n",
       "      <th>tempo</th>\n",
       "      <th>time_signature</th>\n",
       "      <th>valence</th>\n",
       "    </tr>\n",
       "  </thead>\n",
       "  <tbody>\n",
       "    <tr>\n",
       "      <th>0</th>\n",
       "      <td>Movie</td>\n",
       "      <td>Henri Salvador</td>\n",
       "      <td>C'est beau de faire un Show</td>\n",
       "      <td>0BRjO6ga9RKCKjfDqeFgWV</td>\n",
       "      <td>0</td>\n",
       "      <td>0.611</td>\n",
       "      <td>0.389</td>\n",
       "      <td>99373</td>\n",
       "      <td>0.910</td>\n",
       "      <td>0.0</td>\n",
       "      <td>C#</td>\n",
       "      <td>0.346</td>\n",
       "      <td>-1.828</td>\n",
       "      <td>Major</td>\n",
       "      <td>0.0525</td>\n",
       "      <td>166.969</td>\n",
       "      <td>4/4</td>\n",
       "      <td>0.814</td>\n",
       "    </tr>\n",
       "    <tr>\n",
       "      <th>1</th>\n",
       "      <td>Movie</td>\n",
       "      <td>Martin &amp; les fées</td>\n",
       "      <td>Perdu d'avance (par Gad Elmaleh)</td>\n",
       "      <td>0BjC1NfoEOOusryehmNudP</td>\n",
       "      <td>1</td>\n",
       "      <td>0.246</td>\n",
       "      <td>0.590</td>\n",
       "      <td>137373</td>\n",
       "      <td>0.737</td>\n",
       "      <td>0.0</td>\n",
       "      <td>F#</td>\n",
       "      <td>0.151</td>\n",
       "      <td>-5.559</td>\n",
       "      <td>Minor</td>\n",
       "      <td>0.0868</td>\n",
       "      <td>174.003</td>\n",
       "      <td>4/4</td>\n",
       "      <td>0.816</td>\n",
       "    </tr>\n",
       "    <tr>\n",
       "      <th>2</th>\n",
       "      <td>Movie</td>\n",
       "      <td>Joseph Williams</td>\n",
       "      <td>Don't Let Me Be Lonely Tonight</td>\n",
       "      <td>0CoSDzoNIKCRs124s9uTVy</td>\n",
       "      <td>3</td>\n",
       "      <td>0.952</td>\n",
       "      <td>0.663</td>\n",
       "      <td>170267</td>\n",
       "      <td>0.131</td>\n",
       "      <td>0.0</td>\n",
       "      <td>C</td>\n",
       "      <td>0.103</td>\n",
       "      <td>-13.879</td>\n",
       "      <td>Minor</td>\n",
       "      <td>0.0362</td>\n",
       "      <td>99.488</td>\n",
       "      <td>5/4</td>\n",
       "      <td>0.368</td>\n",
       "    </tr>\n",
       "  </tbody>\n",
       "</table>\n",
       "</div>"
      ],
      "text/plain": [
       "   genre        artist_name                        track_name  \\\n",
       "0  Movie     Henri Salvador       C'est beau de faire un Show   \n",
       "1  Movie  Martin & les fées  Perdu d'avance (par Gad Elmaleh)   \n",
       "2  Movie    Joseph Williams    Don't Let Me Be Lonely Tonight   \n",
       "\n",
       "                 track_id  popularity  acousticness  danceability  \\\n",
       "0  0BRjO6ga9RKCKjfDqeFgWV           0         0.611         0.389   \n",
       "1  0BjC1NfoEOOusryehmNudP           1         0.246         0.590   \n",
       "2  0CoSDzoNIKCRs124s9uTVy           3         0.952         0.663   \n",
       "\n",
       "   duration_ms  energy  instrumentalness key  liveness  loudness   mode  \\\n",
       "0        99373   0.910               0.0  C#     0.346    -1.828  Major   \n",
       "1       137373   0.737               0.0  F#     0.151    -5.559  Minor   \n",
       "2       170267   0.131               0.0   C     0.103   -13.879  Minor   \n",
       "\n",
       "   speechiness    tempo time_signature  valence  \n",
       "0       0.0525  166.969            4/4    0.814  \n",
       "1       0.0868  174.003            4/4    0.816  \n",
       "2       0.0362   99.488            5/4    0.368  "
      ]
     },
     "execution_count": 3,
     "metadata": {},
     "output_type": "execute_result"
    }
   ],
   "source": [
    "data = pd.read_csv('SpotifyFeatures.csv')\n",
    "data.info()\n",
    "data.head(3)"
   ]
  },
  {
   "cell_type": "code",
   "execution_count": 4,
   "id": "6280f024-1844-4fc2-9a4a-da4a6782995a",
   "metadata": {},
   "outputs": [],
   "source": [
    "ntrack_id = {}\n",
    "\n",
    "for index, original_id in enumerate(data['track_id']):\n",
    "    ntrack_id[original_id] = index + 1\n",
    "    \n",
    "data['track_id'] = data['track_id'].map(ntrack_id)"
   ]
  },
  {
   "cell_type": "code",
   "execution_count": 5,
   "id": "3499d305-b37c-4f25-92f7-671ed5b5d19c",
   "metadata": {},
   "outputs": [
    {
     "data": {
      "text/html": [
       "<div>\n",
       "<style scoped>\n",
       "    .dataframe tbody tr th:only-of-type {\n",
       "        vertical-align: middle;\n",
       "    }\n",
       "\n",
       "    .dataframe tbody tr th {\n",
       "        vertical-align: top;\n",
       "    }\n",
       "\n",
       "    .dataframe thead th {\n",
       "        text-align: right;\n",
       "    }\n",
       "</style>\n",
       "<table border=\"1\" class=\"dataframe\">\n",
       "  <thead>\n",
       "    <tr style=\"text-align: right;\">\n",
       "      <th></th>\n",
       "      <th>genre</th>\n",
       "      <th>artist_name</th>\n",
       "      <th>track_name</th>\n",
       "      <th>track_id</th>\n",
       "      <th>popularity</th>\n",
       "      <th>acousticness</th>\n",
       "      <th>danceability</th>\n",
       "      <th>duration_ms</th>\n",
       "      <th>energy</th>\n",
       "      <th>instrumentalness</th>\n",
       "      <th>key</th>\n",
       "      <th>liveness</th>\n",
       "      <th>loudness</th>\n",
       "      <th>mode</th>\n",
       "      <th>speechiness</th>\n",
       "      <th>tempo</th>\n",
       "      <th>time_signature</th>\n",
       "      <th>valence</th>\n",
       "    </tr>\n",
       "  </thead>\n",
       "  <tbody>\n",
       "    <tr>\n",
       "      <th>0</th>\n",
       "      <td>Movie</td>\n",
       "      <td>Henri Salvador</td>\n",
       "      <td>C'est beau de faire un Show</td>\n",
       "      <td>1</td>\n",
       "      <td>0</td>\n",
       "      <td>0.611</td>\n",
       "      <td>0.389</td>\n",
       "      <td>99373</td>\n",
       "      <td>0.910</td>\n",
       "      <td>0.0</td>\n",
       "      <td>C#</td>\n",
       "      <td>0.346</td>\n",
       "      <td>-1.828</td>\n",
       "      <td>Major</td>\n",
       "      <td>0.0525</td>\n",
       "      <td>166.969</td>\n",
       "      <td>4/4</td>\n",
       "      <td>0.814</td>\n",
       "    </tr>\n",
       "    <tr>\n",
       "      <th>1</th>\n",
       "      <td>Movie</td>\n",
       "      <td>Martin &amp; les fées</td>\n",
       "      <td>Perdu d'avance (par Gad Elmaleh)</td>\n",
       "      <td>2</td>\n",
       "      <td>1</td>\n",
       "      <td>0.246</td>\n",
       "      <td>0.590</td>\n",
       "      <td>137373</td>\n",
       "      <td>0.737</td>\n",
       "      <td>0.0</td>\n",
       "      <td>F#</td>\n",
       "      <td>0.151</td>\n",
       "      <td>-5.559</td>\n",
       "      <td>Minor</td>\n",
       "      <td>0.0868</td>\n",
       "      <td>174.003</td>\n",
       "      <td>4/4</td>\n",
       "      <td>0.816</td>\n",
       "    </tr>\n",
       "    <tr>\n",
       "      <th>2</th>\n",
       "      <td>Movie</td>\n",
       "      <td>Joseph Williams</td>\n",
       "      <td>Don't Let Me Be Lonely Tonight</td>\n",
       "      <td>3</td>\n",
       "      <td>3</td>\n",
       "      <td>0.952</td>\n",
       "      <td>0.663</td>\n",
       "      <td>170267</td>\n",
       "      <td>0.131</td>\n",
       "      <td>0.0</td>\n",
       "      <td>C</td>\n",
       "      <td>0.103</td>\n",
       "      <td>-13.879</td>\n",
       "      <td>Minor</td>\n",
       "      <td>0.0362</td>\n",
       "      <td>99.488</td>\n",
       "      <td>5/4</td>\n",
       "      <td>0.368</td>\n",
       "    </tr>\n",
       "  </tbody>\n",
       "</table>\n",
       "</div>"
      ],
      "text/plain": [
       "   genre        artist_name                        track_name  track_id  \\\n",
       "0  Movie     Henri Salvador       C'est beau de faire un Show         1   \n",
       "1  Movie  Martin & les fées  Perdu d'avance (par Gad Elmaleh)         2   \n",
       "2  Movie    Joseph Williams    Don't Let Me Be Lonely Tonight         3   \n",
       "\n",
       "   popularity  acousticness  danceability  duration_ms  energy  \\\n",
       "0           0         0.611         0.389        99373   0.910   \n",
       "1           1         0.246         0.590       137373   0.737   \n",
       "2           3         0.952         0.663       170267   0.131   \n",
       "\n",
       "   instrumentalness key  liveness  loudness   mode  speechiness    tempo  \\\n",
       "0               0.0  C#     0.346    -1.828  Major       0.0525  166.969   \n",
       "1               0.0  F#     0.151    -5.559  Minor       0.0868  174.003   \n",
       "2               0.0   C     0.103   -13.879  Minor       0.0362   99.488   \n",
       "\n",
       "  time_signature  valence  \n",
       "0            4/4    0.814  \n",
       "1            4/4    0.816  \n",
       "2            5/4    0.368  "
      ]
     },
     "execution_count": 5,
     "metadata": {},
     "output_type": "execute_result"
    }
   ],
   "source": [
    "data.head(3)"
   ]
  },
  {
   "cell_type": "code",
   "execution_count": 6,
   "id": "8b359691-f16b-4941-b739-3c6658aecb3c",
   "metadata": {},
   "outputs": [
    {
     "data": {
      "text/plain": [
       "popularity\n",
       "0      6312\n",
       "50     5415\n",
       "53     5414\n",
       "51     5401\n",
       "52     5342\n",
       "       ... \n",
       "96        8\n",
       "94        7\n",
       "99        4\n",
       "98        3\n",
       "100       2\n",
       "Name: count, Length: 101, dtype: int64"
      ]
     },
     "execution_count": 6,
     "metadata": {},
     "output_type": "execute_result"
    }
   ],
   "source": [
    "df = data\n",
    "df['popularity'].value_counts()"
   ]
  },
  {
   "cell_type": "code",
   "execution_count": 7,
   "id": "a4e7034c-b08f-4612-8a4f-6b70c69d0078",
   "metadata": {},
   "outputs": [],
   "source": [
    "df = df.drop_duplicates(subset=['track_name', 'artist_name'], keep='first')"
   ]
  },
  {
   "cell_type": "code",
   "execution_count": 8,
   "id": "2e4a2462-d7c9-442e-b459-ee2eb843f3d9",
   "metadata": {},
   "outputs": [
    {
     "data": {
      "text/plain": [
       "15599"
      ]
     },
     "execution_count": 8,
     "metadata": {},
     "output_type": "execute_result"
    }
   ],
   "source": [
    "popular_value = df[(df['popularity'] >= 0) & (df['popularity'] <= 10)]\n",
    "\n",
    "popular_value['popularity'].value_counts().sum()"
   ]
  },
  {
   "cell_type": "code",
   "execution_count": 9,
   "id": "75bbc8b9-7f6d-4f9a-9197-82fb64334d8e",
   "metadata": {},
   "outputs": [],
   "source": [
    "df = df[df['popularity'] > 10]"
   ]
  },
  {
   "cell_type": "code",
   "execution_count": 10,
   "id": "0adb2951-f152-4eb0-abc6-19bcaf727bc0",
   "metadata": {},
   "outputs": [
    {
     "data": {
      "text/html": [
       "<div>\n",
       "<style scoped>\n",
       "    .dataframe tbody tr th:only-of-type {\n",
       "        vertical-align: middle;\n",
       "    }\n",
       "\n",
       "    .dataframe tbody tr th {\n",
       "        vertical-align: top;\n",
       "    }\n",
       "\n",
       "    .dataframe thead th {\n",
       "        text-align: right;\n",
       "    }\n",
       "</style>\n",
       "<table border=\"1\" class=\"dataframe\">\n",
       "  <thead>\n",
       "    <tr style=\"text-align: right;\">\n",
       "      <th></th>\n",
       "      <th>acousticness</th>\n",
       "      <th>danceability</th>\n",
       "      <th>energy</th>\n",
       "      <th>liveness</th>\n",
       "      <th>loudness</th>\n",
       "      <th>speechiness</th>\n",
       "      <th>tempo</th>\n",
       "      <th>valence</th>\n",
       "      <th>popularity</th>\n",
       "    </tr>\n",
       "  </thead>\n",
       "  <tbody>\n",
       "    <tr>\n",
       "      <th>acousticness</th>\n",
       "      <td>1.000000</td>\n",
       "      <td>-0.368240</td>\n",
       "      <td>-0.710752</td>\n",
       "      <td>0.086488</td>\n",
       "      <td>-0.685570</td>\n",
       "      <td>0.197792</td>\n",
       "      <td>-0.261971</td>\n",
       "      <td>-0.351756</td>\n",
       "      <td>-0.273447</td>\n",
       "    </tr>\n",
       "    <tr>\n",
       "      <th>danceability</th>\n",
       "      <td>-0.368240</td>\n",
       "      <td>1.000000</td>\n",
       "      <td>0.352924</td>\n",
       "      <td>-0.022435</td>\n",
       "      <td>0.453855</td>\n",
       "      <td>0.123253</td>\n",
       "      <td>0.027189</td>\n",
       "      <td>0.564769</td>\n",
       "      <td>0.255396</td>\n",
       "    </tr>\n",
       "    <tr>\n",
       "      <th>energy</th>\n",
       "      <td>-0.710752</td>\n",
       "      <td>0.352924</td>\n",
       "      <td>1.000000</td>\n",
       "      <td>0.220612</td>\n",
       "      <td>0.818308</td>\n",
       "      <td>0.165919</td>\n",
       "      <td>0.239310</td>\n",
       "      <td>0.456166</td>\n",
       "      <td>0.114647</td>\n",
       "    </tr>\n",
       "    <tr>\n",
       "      <th>liveness</th>\n",
       "      <td>0.086488</td>\n",
       "      <td>-0.022435</td>\n",
       "      <td>0.220612</td>\n",
       "      <td>1.000000</td>\n",
       "      <td>0.060896</td>\n",
       "      <td>0.572370</td>\n",
       "      <td>-0.062469</td>\n",
       "      <td>0.009694</td>\n",
       "      <td>-0.213763</td>\n",
       "    </tr>\n",
       "    <tr>\n",
       "      <th>loudness</th>\n",
       "      <td>-0.685570</td>\n",
       "      <td>0.453855</td>\n",
       "      <td>0.818308</td>\n",
       "      <td>0.060896</td>\n",
       "      <td>1.000000</td>\n",
       "      <td>-0.005059</td>\n",
       "      <td>0.245979</td>\n",
       "      <td>0.426270</td>\n",
       "      <td>0.256942</td>\n",
       "    </tr>\n",
       "    <tr>\n",
       "      <th>speechiness</th>\n",
       "      <td>0.197792</td>\n",
       "      <td>0.123253</td>\n",
       "      <td>0.165919</td>\n",
       "      <td>0.572370</td>\n",
       "      <td>-0.005059</td>\n",
       "      <td>1.000000</td>\n",
       "      <td>-0.108133</td>\n",
       "      <td>0.010291</td>\n",
       "      <td>-0.220942</td>\n",
       "    </tr>\n",
       "    <tr>\n",
       "      <th>tempo</th>\n",
       "      <td>-0.261971</td>\n",
       "      <td>0.027189</td>\n",
       "      <td>0.239310</td>\n",
       "      <td>-0.062469</td>\n",
       "      <td>0.245979</td>\n",
       "      <td>-0.108133</td>\n",
       "      <td>1.000000</td>\n",
       "      <td>0.143931</td>\n",
       "      <td>0.077828</td>\n",
       "    </tr>\n",
       "    <tr>\n",
       "      <th>valence</th>\n",
       "      <td>-0.351756</td>\n",
       "      <td>0.564769</td>\n",
       "      <td>0.456166</td>\n",
       "      <td>0.009694</td>\n",
       "      <td>0.426270</td>\n",
       "      <td>0.010291</td>\n",
       "      <td>0.143931</td>\n",
       "      <td>1.000000</td>\n",
       "      <td>0.070435</td>\n",
       "    </tr>\n",
       "    <tr>\n",
       "      <th>popularity</th>\n",
       "      <td>-0.273447</td>\n",
       "      <td>0.255396</td>\n",
       "      <td>0.114647</td>\n",
       "      <td>-0.213763</td>\n",
       "      <td>0.256942</td>\n",
       "      <td>-0.220942</td>\n",
       "      <td>0.077828</td>\n",
       "      <td>0.070435</td>\n",
       "      <td>1.000000</td>\n",
       "    </tr>\n",
       "  </tbody>\n",
       "</table>\n",
       "</div>"
      ],
      "text/plain": [
       "              acousticness  danceability    energy  liveness  loudness  \\\n",
       "acousticness      1.000000     -0.368240 -0.710752  0.086488 -0.685570   \n",
       "danceability     -0.368240      1.000000  0.352924 -0.022435  0.453855   \n",
       "energy           -0.710752      0.352924  1.000000  0.220612  0.818308   \n",
       "liveness          0.086488     -0.022435  0.220612  1.000000  0.060896   \n",
       "loudness         -0.685570      0.453855  0.818308  0.060896  1.000000   \n",
       "speechiness       0.197792      0.123253  0.165919  0.572370 -0.005059   \n",
       "tempo            -0.261971      0.027189  0.239310 -0.062469  0.245979   \n",
       "valence          -0.351756      0.564769  0.456166  0.009694  0.426270   \n",
       "popularity       -0.273447      0.255396  0.114647 -0.213763  0.256942   \n",
       "\n",
       "              speechiness     tempo   valence  popularity  \n",
       "acousticness     0.197792 -0.261971 -0.351756   -0.273447  \n",
       "danceability     0.123253  0.027189  0.564769    0.255396  \n",
       "energy           0.165919  0.239310  0.456166    0.114647  \n",
       "liveness         0.572370 -0.062469  0.009694   -0.213763  \n",
       "loudness        -0.005059  0.245979  0.426270    0.256942  \n",
       "speechiness      1.000000 -0.108133  0.010291   -0.220942  \n",
       "tempo           -0.108133  1.000000  0.143931    0.077828  \n",
       "valence          0.010291  0.143931  1.000000    0.070435  \n",
       "popularity      -0.220942  0.077828  0.070435    1.000000  "
      ]
     },
     "execution_count": 10,
     "metadata": {},
     "output_type": "execute_result"
    }
   ],
   "source": [
    "corr = df[['acousticness', 'danceability', 'energy', 'liveness', \n",
    "           'loudness', 'speechiness', 'tempo', 'valence', 'popularity']].corr()\n",
    "corr"
   ]
  },
  {
   "cell_type": "code",
   "execution_count": 11,
   "id": "69d33489-8087-4b64-b4f9-10e785dee55e",
   "metadata": {},
   "outputs": [],
   "source": [
    "df = df.drop(['loudness', 'track_id', 'duration_ms', 'key', 'mode', 'time_signature'], axis=1)\n",
    "df = df.dropna()"
   ]
  },
  {
   "cell_type": "code",
   "execution_count": 12,
   "id": "357e6748-5bec-4482-9e8b-25e81c538cc3",
   "metadata": {},
   "outputs": [
    {
     "name": "stdout",
     "output_type": "stream",
     "text": [
      "<class 'pandas.core.frame.DataFrame'>\n",
      "Index: 160914 entries, 7 to 232724\n",
      "Data columns (total 12 columns):\n",
      " #   Column            Non-Null Count   Dtype  \n",
      "---  ------            --------------   -----  \n",
      " 0   genre             160914 non-null  object \n",
      " 1   artist_name       160914 non-null  object \n",
      " 2   track_name        160914 non-null  object \n",
      " 3   popularity        160914 non-null  int64  \n",
      " 4   acousticness      160914 non-null  float64\n",
      " 5   danceability      160914 non-null  float64\n",
      " 6   energy            160914 non-null  float64\n",
      " 7   instrumentalness  160914 non-null  float64\n",
      " 8   liveness          160914 non-null  float64\n",
      " 9   speechiness       160914 non-null  float64\n",
      " 10  tempo             160914 non-null  float64\n",
      " 11  valence           160914 non-null  float64\n",
      "dtypes: float64(8), int64(1), object(3)\n",
      "memory usage: 16.0+ MB\n"
     ]
    }
   ],
   "source": [
    "df.info()"
   ]
  },
  {
   "cell_type": "markdown",
   "id": "6833a658-030a-48c9-9327-69bf661e0839",
   "metadata": {},
   "source": [
    "# Начинаем работу с обучением модели"
   ]
  },
  {
   "cell_type": "markdown",
   "id": "f243b903-802d-43fb-a4de-10d9a0abe4a7",
   "metadata": {},
   "source": [
    "### Подготовка текстовых данных:"
   ]
  },
  {
   "cell_type": "code",
   "execution_count": 13,
   "id": "371baa99-62c7-4ab4-8896-bff175a78d77",
   "metadata": {},
   "outputs": [],
   "source": [
    "def tokenize_track_name(track_name): #Токенизация, превращение предложений в слова\n",
    "    fixed = track_name.lower().strip().replace(' ', '_').replace('(', '').replace(')', '').replace(\"'\", '')\n",
    "    tokens = word_tokenize(fixed)\n",
    "    return tokens\n",
    "\n",
    "df['tokenized'] = df['track_name'].apply(tokenize_track_name)"
   ]
  },
  {
   "cell_type": "code",
   "execution_count": 14,
   "id": "a51dd89b-4007-46f3-af4d-957832c0b742",
   "metadata": {},
   "outputs": [
    {
     "data": {
      "text/plain": [
       "array([ 9.1009140e-05, -4.8354626e-04,  3.9073359e-03,  2.1400785e-03,\n",
       "       -3.7047565e-03,  3.4237886e-03, -3.9438247e-03,  6.0416711e-03,\n",
       "        5.3183208e-03, -4.3890132e-03, -9.3062995e-03,  5.2790524e-04,\n",
       "       -2.7662076e-03,  6.0389042e-03, -5.9912931e-03,  5.3417492e-03,\n",
       "        3.5509539e-03,  6.5546873e-04,  9.6462509e-03,  7.6512335e-04,\n",
       "        6.3972948e-03, -7.1902419e-03, -5.4282178e-03, -9.6371584e-03,\n",
       "       -1.7605149e-03,  4.3710805e-03, -4.1288352e-03, -6.2523987e-03,\n",
       "       -8.3235977e-04, -1.1033989e-03, -3.8899840e-03, -8.4642163e-03,\n",
       "       -4.4307900e-03,  1.0168660e-03, -7.7912067e-03, -8.1407037e-03,\n",
       "        8.3342791e-03, -6.6730496e-04, -6.6423072e-03,  1.1249899e-03,\n",
       "        2.8591920e-03,  6.2815011e-03,  2.0230019e-03, -5.1247133e-03,\n",
       "       -9.5850853e-03,  7.3707439e-03, -3.8310564e-03,  5.4073689e-04,\n",
       "        3.1455385e-03, -9.2466595e-04,  6.3091554e-03, -4.3644262e-03,\n",
       "        4.8595546e-03,  8.6594978e-03,  2.2547257e-03, -2.6387954e-03,\n",
       "        9.8079173e-03, -4.8700691e-04, -6.9423523e-03, -4.7349348e-03,\n",
       "       -9.0648625e-03, -9.6680043e-04, -6.2300549e-03, -7.1667610e-03,\n",
       "        8.4295347e-03,  9.7836857e-04, -1.8110514e-03,  6.8834662e-03,\n",
       "       -3.4378171e-03, -2.1951318e-04,  9.9546304e-03,  8.9762900e-03,\n",
       "       -1.2526310e-03,  8.3302418e-03,  6.5732040e-03, -5.9262798e-03,\n",
       "       -6.1277593e-03,  8.9297332e-03, -2.6398646e-03,  2.4582648e-03,\n",
       "       -4.7438038e-03,  9.9461377e-03, -7.1457182e-03,  4.9425708e-03,\n",
       "        2.3390078e-03,  8.0380915e-04,  7.6115248e-04, -8.5914480e-03,\n",
       "        6.6689588e-03,  7.2826208e-03,  8.5645365e-03,  6.6623795e-03,\n",
       "       -8.5213110e-03,  3.9047408e-03, -8.8357022e-03,  3.2038093e-04,\n",
       "       -6.2530003e-03, -5.7654097e-03, -2.0078695e-03,  2.8027452e-03],\n",
       "      dtype=float32)"
      ]
     },
     "execution_count": 14,
     "metadata": {},
     "output_type": "execute_result"
    }
   ],
   "source": [
    "model = Word2Vec(sentences=df['tokenized'], vector_size=100, window=5, min_count=1, workers=4)\n",
    "\n",
    "track_vector = model.wv['ice_on_my_baby_feat._kevin_gates_-_remix'] #Получение вектора из примера\n",
    "track_vector"
   ]
  },
  {
   "cell_type": "markdown",
   "id": "e8094fa6-8abe-4338-a927-e3caecc8e497",
   "metadata": {},
   "source": [
    "### Подготовка числовых данных:"
   ]
  },
  {
   "cell_type": "code",
   "execution_count": 15,
   "id": "bf5ba04a-185b-47a3-baca-cef7a520bc3a",
   "metadata": {},
   "outputs": [],
   "source": [
    "numerical_features = ['acousticness', 'danceability', 'energy', 'instrumentalness', 'liveness', 'speechiness', 'tempo', 'valence']\n",
    "scaler = StandardScaler()\n",
    "\n",
    "df[numerical_features] = scaler.fit_transform(df[numerical_features]) #Применяем стандартизацию к числовым признакам"
   ]
  },
  {
   "cell_type": "markdown",
   "id": "56fcbd0c-de53-444c-9c55-27b7d5f26fe7",
   "metadata": {},
   "source": [
    "## Создание функций для получения рекомендаций"
   ]
  },
  {
   "cell_type": "markdown",
   "id": "1e13078b-7181-458a-a834-b8112d786b36",
   "metadata": {},
   "source": [
    "### Функция для поиска похожих треков по названию:"
   ]
  },
  {
   "cell_type": "code",
   "execution_count": 16,
   "id": "02677769-1c1f-4d9e-8d87-773c37267fe6",
   "metadata": {},
   "outputs": [
    {
     "data": {
      "text/plain": [
       "[('_wd_31_/_act_4', 0.428),\n",
       " ('a_poem_to_my_chinese_girlfriend', 0.428),\n",
       " ('_ho_pagato_il_trimestre_marcello', 0.419),\n",
       " ('_je_vais_danser_en_votre_honneur_-_act_two', 0.379),\n",
       " ('thickfreakness', 0.378),\n",
       " ('_-_thin_white_duke_mix', 0.374),\n",
       " ('main_show', 0.373),\n",
       " ('tried_my_best', 0.372),\n",
       " ('tuba_concerto', 0.372),\n",
       " ('twang', 0.37)]"
      ]
     },
     "execution_count": 16,
     "metadata": {},
     "output_type": "execute_result"
    }
   ],
   "source": [
    "def get_similar_tracks_by_name(track, model, top_n=5): \n",
    "    if track in model.wv:\n",
    "        similar_tracks = model.wv.most_similar(track, topn=top_n)\n",
    "        return [(similar[0], round(similar[1], 3)) for similar in similar_tracks]\n",
    "    else:\n",
    "        print('Трек не найден в модели.')\n",
    "        return \n",
    "\n",
    "get_similar_tracks_by_name('mia', model, 10)"
   ]
  },
  {
   "cell_type": "markdown",
   "id": "7d6cbdca-7192-4f30-9f6b-5182822a69d4",
   "metadata": {},
   "source": [
    "### Функция для нахождения похожих треков по числовым признакам:"
   ]
  },
  {
   "cell_type": "code",
   "execution_count": 17,
   "id": "a2d248b1-23cf-4ef8-9f0b-3d9e89ee5c86",
   "metadata": {},
   "outputs": [
    {
     "data": {
      "text/plain": [
       "[('No Cap', 0.984),\n",
       " (\"Tell'em Who You Got It From\", 0.982),\n",
       " ('Up (feat. Lil Uzi Vert)', 0.98),\n",
       " ('Talk Up (feat. Jay-Z)', 0.977),\n",
       " ('Perplexing Pegasus - From SR3MM', 0.975),\n",
       " ('Wake Up in the Sky', 0.975),\n",
       " ('Griselda - Remix', 0.974),\n",
       " ('PICK IT UP (feat. A$AP Rocky)', 0.974),\n",
       " ('Back Soon', 0.969),\n",
       " ('Blessings', 0.969)]"
      ]
     },
     "execution_count": 17,
     "metadata": {},
     "output_type": "execute_result"
    }
   ],
   "source": [
    "def get_similar_tracks_by_features(track, df, top_n=5): \n",
    "    track_normalized = track.lower().strip()\n",
    "    df['track_name_normalized'] = df['track_name'].str.lower().str.strip()\n",
    "    \n",
    "    if track_normalized not in df['track_name_normalized'].values:\n",
    "        print(f\"Трек '{track}' не найден в датасете.\")\n",
    "        return []\n",
    "\n",
    "    track_index = df[df['track_name_normalized'] == track_normalized].index[0]\n",
    "    target_features = df.loc[track_index, numerical_features].values.reshape(1, -1)\n",
    "    \n",
    "    similarities = cosine_similarity(target_features, df[numerical_features])\n",
    "    similar_indices = similarities[0].argsort()[-top_n-1:-1][::-1]    \n",
    "    by_features = [(df.iloc[i]['track_name'], round(similarities[0][i], 3)) for i in similar_indices]\n",
    "    return by_features\n",
    "\n",
    "get_similar_tracks_by_features('mia', df, 10)"
   ]
  },
  {
   "cell_type": "markdown",
   "id": "782c56b7-75c0-4afc-bb6d-423b95d8f349",
   "metadata": {},
   "source": [
    "### Комбинированная функция, включает и текстовые и числовые признаки:"
   ]
  },
  {
   "cell_type": "code",
   "execution_count": 18,
   "id": "51a1944c-9dbf-46ba-aea4-d11733ccf04f",
   "metadata": {},
   "outputs": [
    {
     "data": {
      "text/plain": [
       "[('Offended', 'Eminem', 92.2),\n",
       " ('Really Got It', 'Jerreau', 79.6),\n",
       " ('I Smile', 'Kirk Franklin', 75.9),\n",
       " ('Imma Tell', 'Tech N9ne', 74.4),\n",
       " ('Makin Love', 'Kevin Gates', 67.9),\n",
       " ('Cuidao - Reggaeton Version', 'Super Yei', 57.7),\n",
       " ('Sweetest Thing', 'Dave B.', 57.7),\n",
       " ('Them Belly Full - Live At Music Hall, Boston / 1978',\n",
       "  'Bob Marley & The Wailers',\n",
       "  55.1),\n",
       " ('Un Vacilon (Young Maelo)', 'Arcangel', 55.1),\n",
       " ('Power (Remix) [feat. Daddy Yankee, Kendo Kaponi, Gotay El Autentiko, Pusho, Alexio, D Ozi, Almighty, Ozuna & Anuel Aa]',\n",
       "  'Benny Benni',\n",
       "  52.5),\n",
       " ('Speak To Me / Breathe', 'Easy Star All-Stars', 52.5),\n",
       " ('El Comediante', 'Pusho', 51.2),\n",
       " ('Strangeulation Vol. II Cypher I', 'Tech N9ne Collabos', 49.9),\n",
       " ('Mi Niña - Remix', 'D-Enyel', 47.3),\n",
       " ('No Mercy', 'Eptic', 44.7),\n",
       " ('No Diga Más', 'Dillon Francis', 43.4),\n",
       " ('I Got It', 'Nitti Gritti', 39.5),\n",
       " ('Lo Que No Sabes Tu - En Vivo Desde El Anfiteatro El Hatillo, Caracas-Venezuela/2014',\n",
       "  'Chino & Nacho',\n",
       "  38.2),\n",
       " (\"Everybody's Drunk\", 'Reel Big Fish', 35.6),\n",
       " ('El Amor y el Interes (feat. Nejo)', 'EZ El Ezeta', 34.3)]"
      ]
     },
     "execution_count": 18,
     "metadata": {},
     "output_type": "execute_result"
    }
   ],
   "source": [
    "def get_combined_recommendations(track, artist, df, model, top_n=5): \n",
    "    \n",
    "    track_normalized = track.lower().strip().replace(' ', '_').replace('(', '').replace(')', '').replace(\"'\", '')\n",
    "    artist_normalized = artist.lower().strip().replace(' ', '_').replace('(', '').replace(')', '').replace(\"'\", '')\n",
    "    \n",
    "    if track_normalized not in model.wv:\n",
    "        print('Трек не найден в модели.')\n",
    "        return []\n",
    "  \n",
    "    by_name = model.wv.most_similar(track_normalized, topn=top_n) \n",
    "    by_name = [(similar[0], round(similar[1], 3)) for similar in by_name]\n",
    "\n",
    "    df['track_name_normalized'] = df['track_name'].str.lower().str.strip().str.replace(' ', '_').str.replace('(', '').str.replace(')', '').str.replace(\"'\", '')\n",
    "    df['artist_name_normalized'] = df['artist_name'].str.lower().str.strip().str.replace(' ', '_').str.replace('(', '').str.replace(')', '').str.replace(\"'\", '')\n",
    "    \n",
    "    track_index = df[(df['track_name_normalized'] == track_normalized) & (df['artist_name_normalized'] == artist_normalized)].index\n",
    "    if len(track_index) == 0:\n",
    "        print(f\"Трек '{track}' от '{artist}' не найден в датасете.\")\n",
    "        return []\n",
    "    \n",
    "    track_index = track_index[0]\n",
    "    target_features = df.loc[track_index, numerical_features].values.reshape(1, -1) \n",
    "    by_features = cosine_similarity(target_features, df[numerical_features]) \n",
    "    similar_indices = by_features[0].argsort()[-top_n-1:-1][::-1]    \n",
    "    by_features = [(df.iloc[i]['track_name'], round(by_features[0][i], 3)) for i in similar_indices]\n",
    "\n",
    "    combined_recommendations = {name: similarity for name, similarity in by_name}\n",
    "    for name, similarity in by_features:\n",
    "        if name not in combined_recommendations:\n",
    "            combined_recommendations[name] = similarity\n",
    "\n",
    "    genre_weight = 5 \n",
    "    popularity_weight = 1.3\n",
    "    artist_weight = 10  \n",
    "    \n",
    "    final_scores = {}\n",
    "    for name, sim in combined_recommendations.items(): \n",
    "        genre_score = 0\n",
    "        popularity_score = 0\n",
    "        artist_score = 0\n",
    "        \n",
    "        genre_row = df[df['track_name'] == name] \n",
    "        if not genre_row.empty:\n",
    "            genre_score = genre_row['genre'].values[0] \n",
    "            genre_score = 1 if genre_score in df.loc[track_index, 'genre'] else 0  \n",
    "        \n",
    "        popularity_row = df[df['track_name'] == name]\n",
    "        if not popularity_row.empty:\n",
    "            popularity_score = popularity_row['popularity'].values[0]  \n",
    "\n",
    "        artist_row = df[df['track_name'] == name]\n",
    "        if not artist_row.empty:\n",
    "            artist_score = artist_weight if artist_row['artist_name_normalized'].values[0] == artist_normalized else 0\n",
    "        \n",
    "        final_score = (sim * 0.5 + \n",
    "                       (genre_weight * genre_score) + \n",
    "                       (popularity_weight * popularity_score) + \n",
    "                       artist_score)\n",
    "        final_scores[name] = min(final_score, 100)  \n",
    "\n",
    "    sorted_recommendations = sorted(final_scores.items(), key=lambda x: x[1], reverse=True)\n",
    "\n",
    "    formatted_recommendations = []\n",
    "    for name, score in sorted_recommendations[:top_n]:\n",
    "        artist_name = df[df['track_name'] == name]['artist_name'].values[0]  \n",
    "        formatted_recommendations.append((name, artist_name, round(score, 1))) \n",
    "\n",
    "    return formatted_recommendations\n",
    "\n",
    "get_combined_recommendations('rap god', 'eminem', df, model, top_n=20)"
   ]
  },
  {
   "cell_type": "markdown",
   "id": "321e5cc7-c0e1-439c-9c68-6a169677e595",
   "metadata": {},
   "source": [
    "## Наглядный пример возможного оценивания по метрикам рекомендательных систем:"
   ]
  },
  {
   "cell_type": "code",
   "execution_count": 19,
   "id": "585cdf6b-0813-47e4-b928-e9cdd516ad8e",
   "metadata": {},
   "outputs": [],
   "source": [
    "def precision_at_k(recommended, relevant, k):\n",
    "    recommended_k = recommended[:k]\n",
    "    relevant_set = set(relevant)\n",
    "    hits = sum(1 for track in recommended_k if track in relevant_set)\n",
    "    return hits / k if k > 0 else 0\n",
    "\n",
    "def recall_at_k(recommended, relevant, k):\n",
    "    recommended_k = recommended[:k]\n",
    "    relevant_set = set(relevant)\n",
    "    hits = sum(1 for track in recommended_k if track in relevant_set)\n",
    "    return hits / len(relevant) if relevant else 0\n",
    "\n",
    "def mean_average_precision(recommended, relevant):\n",
    "    ap_sum = 0\n",
    "    hits = 0\n",
    "    for i, track in enumerate(recommended):\n",
    "        if track in relevant:\n",
    "            hits += 1\n",
    "            ap_sum += hits / (i + 1)\n",
    "    return ap_sum / len(relevant) if relevant else 0\n",
    "\n",
    "def mean_reciprocal_rank(recommended, relevant):\n",
    "    for i, track in enumerate(recommended):\n",
    "        if track in relevant:\n",
    "            return 1 / (i + 1)\n",
    "    return 0"
   ]
  },
  {
   "cell_type": "code",
   "execution_count": 20,
   "id": "178f8bb1-ab86-4cc3-996e-faaafa897ef9",
   "metadata": {},
   "outputs": [],
   "source": [
    "test_tracks = ['Wake Up in the Sky']\n",
    "artists = ['Gucci Mane']\n",
    "\n",
    "relevant_tracks = {\n",
    "    'Wake Up in the Sky': ['a lot', 'Perplexing Pegasus - From SR3MM', 'No I in Team']\n",
    "}"
   ]
  },
  {
   "cell_type": "code",
   "execution_count": 21,
   "id": "ec2b5497-2636-42ca-9fc6-53619c25faf9",
   "metadata": {},
   "outputs": [
    {
     "name": "stdout",
     "output_type": "stream",
     "text": [
      "Track: Wake Up in the Sky\n",
      "Precision@5: 0.6\n",
      "Recall@5: 1.0\n",
      "MAP: 1.0\n",
      "MRR: 1.0\n",
      "\n"
     ]
    }
   ],
   "source": [
    "k = 5  \n",
    "for track, artist in zip(test_tracks, artists):\n",
    "    recommended = [rec[0] for rec in get_combined_recommendations(track, artist, df, model, top_n=25)] \n",
    "    relevant = relevant_tracks.get(track, [])\n",
    "    \n",
    "    precision = precision_at_k(recommended, relevant, k)\n",
    "    recall = recall_at_k(recommended, relevant, k)\n",
    "    map_score = mean_average_precision(recommended, relevant)\n",
    "    mrr = mean_reciprocal_rank(recommended, relevant)\n",
    "\n",
    "    print(f\"Track: {track}\")\n",
    "    print(f\"Precision@{k}: {precision}\")\n",
    "    print(f\"Recall@{k}: {recall}\")\n",
    "    print(f\"MAP: {map_score}\")\n",
    "    print(f\"MRR: {mrr}\\n\")"
   ]
  },
  {
   "cell_type": "markdown",
   "id": "12936751-8c19-4c8d-9868-d4ff121ca4c4",
   "metadata": {},
   "source": [
    "##  Использование метрик, основанных на качественных характеристиках, таких как разнообразие и средняя дистанция:"
   ]
  },
  {
   "cell_type": "code",
   "execution_count": 22,
   "id": "4ea60f3f-1a17-4a14-b49f-50b50688573f",
   "metadata": {},
   "outputs": [
    {
     "name": "stdout",
     "output_type": "stream",
     "text": [
      "Diversity: 0.8383406702568168\n",
      "Mean Distance: 0.658571091204805\n"
     ]
    }
   ],
   "source": [
    "def diversity_score(recommended_tracks, feature_vectors):\n",
    "    distances = cosine_distances(feature_vectors)\n",
    "    return np.mean(distances)\n",
    "\n",
    "def mean_distance_score(original_track_features, recommended_features):\n",
    "    distances = cosine_distances(original_track_features.reshape(1, -1), recommended_features)\n",
    "    return np.mean(distances)\n",
    "\n",
    "track = \"Roar\"\n",
    "artist = 'katy perry'\n",
    "recommendations = get_combined_recommendations(track, artist, df, model, top_n=10)\n",
    "\n",
    "recommended_names = [rec[0] for rec in recommendations]\n",
    "recommended_features = df[df['track_name'].isin(recommended_names)][numerical_features].values\n",
    "original_track_features = df[df['track_name'] == track][numerical_features].values[0]\n",
    "\n",
    "diversity = diversity_score(recommended_names, recommended_features)\n",
    "mean_distance = mean_distance_score(original_track_features, recommended_features)\n",
    "\n",
    "print(\"Diversity:\", diversity) #Разнообразие\n",
    "print(\"Mean Distance:\", mean_distance) #Среднее расстояние\n"
   ]
  },
  {
   "cell_type": "code",
   "execution_count": null,
   "id": "4e5efddc-2094-4e63-b3d2-20c0dd0baefe",
   "metadata": {},
   "outputs": [],
   "source": []
  }
 ],
 "metadata": {
  "kernelspec": {
   "display_name": "Python 3 (ipykernel)",
   "language": "python",
   "name": "python3"
  },
  "language_info": {
   "codemirror_mode": {
    "name": "ipython",
    "version": 3
   },
   "file_extension": ".py",
   "mimetype": "text/x-python",
   "name": "python",
   "nbconvert_exporter": "python",
   "pygments_lexer": "ipython3",
   "version": "3.12.7"
  }
 },
 "nbformat": 4,
 "nbformat_minor": 5
}
